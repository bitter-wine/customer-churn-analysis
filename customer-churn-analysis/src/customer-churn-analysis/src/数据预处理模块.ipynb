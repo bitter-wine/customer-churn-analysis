{
 "cells": [
  {
   "cell_type": "code",
   "execution_count": 1,
   "id": "148a1118-7fd5-417c-8f8f-57e83683a58a",
   "metadata": {},
   "outputs": [
    {
     "name": "stdout",
     "output_type": "stream",
     "text": [
      "流失用户数量：30492\n",
      "预处理完成！\n"
     ]
    }
   ],
   "source": [
    "import pandas as pd\n",
    "import numpy as np\n",
    "\n",
    "import warnings\n",
    "warnings.filterwarnings('ignore')  # 忽略警告信息\n",
    "# 读取数据\n",
    "df = pd.read_csv(\n",
    "    r\"C:\\Users\\le\\Desktop\\数据分析\\cleaned_source.csv\",\n",
    "    skiprows=2,\n",
    "    header=None,\n",
    "    names=[\n",
    "        \"CustomerID\", \"Age\", \"Gender\", \"Tenure\",\n",
    "        \"Usage Frequency\", \"Support Calls\", \"Payment Delay\",\n",
    "        \"Subscription Type\", \"Contract Length\", \"Total Spend\",\n",
    "        \"Last Interact\", \"Churn\"\n",
    "    ]\n",
    ")\n",
    "\n",
    "# 确保 Age 列是字符串类型\n",
    "df[\"Age\"] = df[\"Age\"].astype(str)\n",
    "\n",
    "# 拆分合并字段\n",
    "# 拆分前先检查是否有足够的分隔符\n",
    "split_result = df[\"Age\"].str.split(\" \", n=1, expand=True)\n",
    "\n",
    "# 确保拆分后的结果总是有两列\n",
    "split_result = split_result.reindex(columns=[0, 1], fill_value=\"Unknown\")\n",
    "split_result.columns = [\"Age\", \"Gender\"]  # 设置列名\n",
    "\n",
    "# 更新原始 DataFrame\n",
    "df[[\"Age\", \"Gender\"]] = split_result\n",
    "\n",
    "# 将 Age 和 Payment Delay 转换为整数类型\n",
    "df[\"Age\"] = pd.to_numeric(df[\"Age\"], errors='coerce')  # 转换失败的值将变为 NaN\n",
    "df[\"Age\"].fillna(df[\"Age\"].median(), inplace=True)  # 用中位数填充 NaN\n",
    "df[\"Payment Delay\"] = df[\"Payment Delay\"].astype(int)\n",
    "\n",
    "# 删除多余列\n",
    "df = df.iloc[:, 0:12]\n",
    "\n",
    "# 缺失值处理\n",
    "df.dropna(subset=[\"Payment Delay\"], inplace=True)\n",
    "df[\"Gender\"].fillna(df[\"Gender\"].mode()[0], inplace=True)\n",
    "df[\"Last Interact\"].fillna(df[\"Last Interact\"].median(), inplace=True)\n",
    "\n",
    "# 异常值处理\n",
    "upper_limit = df[\"Total Spend\"].quantile(0.99)\n",
    "df[\"Total Spend\"] = np.where(df[\"Total Spend\"] > upper_limit, upper_limit, df[\"Total Spend\"])\n",
    "# 统计流失用户\n",
    "churned_users = df[df[\"Churn\"] == 1]\n",
    "print(f\"流失用户数量：{len(churned_users)}\")\n",
    "\n",
    "# 保存数据\n",
    "df.to_csv(\"final_cleaned_data.csv\", index=False)\n",
    "print(\"预处理完成！\")"
   ]
  },
  {
   "cell_type": "code",
   "execution_count": null,
   "id": "ea3f8e9b-47c9-4ece-b972-4886e84f5b01",
   "metadata": {},
   "outputs": [],
   "source": []
  }
 ],
 "metadata": {
  "kernelspec": {
   "display_name": "Python 3 (ipykernel)",
   "language": "python",
   "name": "python3"
  },
  "language_info": {
   "codemirror_mode": {
    "name": "ipython",
    "version": 3
   },
   "file_extension": ".py",
   "mimetype": "text/x-python",
   "name": "python",
   "nbconvert_exporter": "python",
   "pygments_lexer": "ipython3",
   "version": "3.12.7"
  }
 },
 "nbformat": 4,
 "nbformat_minor": 5
}
